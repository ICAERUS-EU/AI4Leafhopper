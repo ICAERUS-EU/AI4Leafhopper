{
 "cells": [
  {
   "cell_type": "markdown",
   "id": "362d3b23-866b-4666-8efb-736c24f450c1",
   "metadata": {},
   "source": [
    "##### Author: Manisha Sirsat\n",
    "##### Department: Data Management and Risk Analysis\n",
    "##### Organization: InnovPlantProtect, Elvas, Portugal"
   ]
  },
  {
   "cell_type": "code",
   "execution_count": null,
   "id": "d8bf9b88-618a-4785-83a0-5658c0561f38",
   "metadata": {},
   "outputs": [],
   "source": [
    "#setting path\n",
    "%cd /home/dep3_user1/vine_seg/"
   ]
  },
  {
   "cell_type": "markdown",
   "id": "35421a79-a897-42c0-865a-5890e6aa3ea6",
   "metadata": {},
   "source": [
    "### Installing dependencies"
   ]
  },
  {
   "cell_type": "code",
   "execution_count": null,
   "id": "1db39d76-9eac-44d5-8c0b-0d113145be5f",
   "metadata": {},
   "outputs": [],
   "source": [
    "#cloning yolov9 guthub repository\n",
    "!git clone https://github.com/WongKinYiu/yolov9.git"
   ]
  },
  {
   "cell_type": "code",
   "execution_count": null,
   "id": "d83fff44-bbe5-4cf3-bd5c-0dd7fee3d091",
   "metadata": {},
   "outputs": [],
   "source": [
    "#installing the requirements\n",
    "%cd yolov9"
   ]
  },
  {
   "cell_type": "code",
   "execution_count": null,
   "id": "da7ebaf0-6dbc-4dbb-b805-b84188ae8d6a",
   "metadata": {},
   "outputs": [],
   "source": [
    "%pip install -qr requirements.txt"
   ]
  },
  {
   "cell_type": "markdown",
   "id": "9926d00e-4ba4-4663-b9d2-89206f4c950e",
   "metadata": {},
   "source": [
    "### Some settings before training the model:\n",
    "\n",
    "1. Download the yolov9 pretrained instance segmentation model: gelan-c-seg.pt (https://github.com/WongKinYiu/yolov9/releases/download/v0.1/gelan-c-seg.pt).\n",
    "\n",
    "2. Place the downloaded weight file in the yolov9 directory.\n",
    "\n",
    "3. Make a edit in the config file 'gelan-c-seg.yaml' present at yolov9\\models\\segment with the number of class as per the custom dataset.\n"
   ]
  },
  {
   "cell_type": "code",
   "execution_count": null,
   "id": "db95f021-d174-4ec8-8233-0b2e2070d513",
   "metadata": {},
   "outputs": [],
   "source": [
    "#training the model\n",
    "!python segment/train.py --workers 8 --device 0 --batch 16  --data ./yolov9/YOLODataset/dataset.yaml --img 640 --cfg yolov9/models/segment/gelan-c-seg.yaml --weights '' --name gelan-c-seg --hyp hyp.scratch-high.yaml --no-overlap --epochs 500 --close-mosaic 10"
   ]
  },
  {
   "cell_type": "code",
   "execution_count": null,
   "id": "2d4316a0-067c-40a6-b61e-5dafd566e74e",
   "metadata": {},
   "outputs": [],
   "source": [
    "#inferencing on the test data\n",
    "python segment/predict.py --source ./YOLODataset/images/test/png/ --img 640 --device 0 --conf 0.10 --weights runs/train-seg/gelan-c-seg36/weights/best.pt --save-txt"
   ]
  }
 ],
 "metadata": {
  "kernelspec": {
   "display_name": "Python 3 (ipykernel)",
   "language": "python",
   "name": "python3"
  },
  "language_info": {
   "codemirror_mode": {
    "name": "ipython",
    "version": 3
   },
   "file_extension": ".py",
   "mimetype": "text/x-python",
   "name": "python",
   "nbconvert_exporter": "python",
   "pygments_lexer": "ipython3",
   "version": "3.11.6"
  }
 },
 "nbformat": 4,
 "nbformat_minor": 5
}
